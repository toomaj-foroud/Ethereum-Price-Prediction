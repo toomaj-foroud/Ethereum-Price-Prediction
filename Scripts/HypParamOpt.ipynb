{
 "cells": [
  {
   "cell_type": "code",
   "execution_count": null,
   "id": "229db0b8",
   "metadata": {},
   "outputs": [],
   "source": [
    "# https://towardsdatascience.com/how-to-optimize-a-deep-learning-model-2e9ff8a4c5de"
   ]
  },
  {
   "cell_type": "code",
   "execution_count": 19,
   "id": "520fc87d",
   "metadata": {},
   "outputs": [
    {
     "name": "stdout",
     "output_type": "stream",
     "text": [
      "Tensorflow version:  2.5.0\n"
     ]
    }
   ],
   "source": [
    "import numpy as np\n",
    "import pandas as pd\n",
    "from numpy import array\n",
    "import matplotlib.pyplot as plt\n",
    "import sklearn.metrics as metrics\n",
    "import time\n",
    "from sklearn.model_selection import train_test_split\n",
    "import tensorflow as tf\n",
    "from tensorflow.keras import backend as K\n",
    "from tensorflow.keras.models import Sequential\n",
    "from tensorflow.keras.layers import Dense, Dropout\n",
    "from tensorflow.keras.callbacks import TensorBoard\n",
    "from tensorflow.keras.optimizers import Adam, SGD\n",
    "from tensorflow.keras.models import load_model\n",
    "from tensorflow.keras.callbacks import EarlyStopping\n",
    "import skopt\n",
    "from skopt.space import Real, Categorical, Integer\n",
    "from skopt import gp_minimize, forest_minimize\n",
    "from skopt.plots import plot_convergence, plot_objective, plot_evaluations\n",
    "from skopt.utils import use_named_args\n",
    "print( \"Tensorflow version: \", tf.__version__)"
   ]
  },
  {
   "cell_type": "code",
   "execution_count": 20,
   "id": "e2176f57",
   "metadata": {},
   "outputs": [],
   "source": [
    "# split a multivariate sequence into samples\n",
    "def split_sequences(sequences, n_steps_in, n_steps_out):\n",
    "    X, y = list(), list()\n",
    "    for i in range(len(sequences)):\n",
    "        # find the end of this pattern\n",
    "        end_ix = i + n_steps_in\n",
    "        out_end_ix = end_ix + n_steps_out\n",
    "        # check if we are beyond the sequence\n",
    "        if out_end_ix > len(sequences):\n",
    "            break\n",
    "        # gather input and output parts of the pattern\n",
    "        seq_x, seq_y = sequences[i:end_ix, :], sequences[end_ix:out_end_ix, 0]\n",
    "        X.append(seq_x)\n",
    "        y.append(seq_y)\n",
    "    return array(X), array(y)"
   ]
  },
  {
   "cell_type": "code",
   "execution_count": 21,
   "id": "4e859928",
   "metadata": {},
   "outputs": [],
   "source": [
    "# Load data\n",
    "from sklearn.preprocessing import MinMaxScaler\n",
    "from numpy import split\n",
    "from numpy import array\n",
    "\n",
    "df=pd.read_csv('5-original2016-43.csv', header=0, parse_dates=['Date'], index_col=['Date'])\n",
    "\n",
    "#start analysis data from 1/1/2018\n",
    "df=df.loc['2018-01-01':,:]\n",
    "\n",
    "# Perform Log Transformation\n",
    "df=np.log(df+1)\n",
    "\n",
    "scaler=MinMaxScaler(feature_range=(0, 1))\n",
    "df_norm = pd.DataFrame(scaler.fit_transform(df), columns=df.columns)\n",
    "df_norm.index=df.index\n",
    "\n",
    "# restructure into windows of weekly data\n",
    "train, test = df_norm.loc['2018-01-01':'2020-12-27'],  df_norm.loc['2020-12-28':'2021-05-30']\n",
    "\n",
    "train = array(train)\n",
    "test = array(test)\n",
    "\n",
    "n_input = 14\n",
    "n_out = 1\n",
    "\n",
    "# convert history into inputs and outputs\n",
    "train_x, train_y= split_sequences(train, n_input, n_out)\n",
    "test_x, test_y= split_sequences(test, n_input, n_out)\n",
    "train_x, validation_x, train_y, validation_y = train_test_split(train_x, train_y, test_size=0.2, random_state=2)\n"
   ]
  },
  {
   "cell_type": "code",
   "execution_count": 22,
   "id": "8329da75",
   "metadata": {},
   "outputs": [],
   "source": [
    "# Hyperparameter Initialization\n",
    "\n",
    "dim_optimization = Categorical(categories=['adam', 'SGD'], name='optimization')\n",
    "dim_learning_rate = Real(low=1e-3, high=1e-1, prior='log-uniform', name='learning_rate')\n",
    "dim_num_layers = Integer(low=1, high=3, name='num_layers')\n",
    "dim_num_dense_nodes = Integer(low=30, high=70, name='num_dense_nodes')\n",
    "dim_dropout_prob = Real(low=0.01, high=0.5, prior='uniform', name='dropout_prob')\n",
    "dim_activation = Categorical(categories=['sigmoid', 'softmax', 'relu'],name='activation')\n",
    "dimensions = [dim_optimization, dim_learning_rate, dim_num_layers, dim_num_dense_nodes, dim_dropout_prob, dim_activation]\n",
    "\n",
    "NUM_LAYERS = 2\n",
    "BATCH_SIZE = 128\n",
    "LEARNING_RATE = 0.001\n",
    "DENSE_UNITS = 50\n",
    "DROPOUT_PROB = 0.1\n",
    "ACTIVATION_FUNC = 'relu'\n",
    "LOSS_FUNC = 'mse'\n",
    "METRIC = 'mape'\n",
    "OTIMIZATION_FUNC = 'adam'\n",
    "ACQ_FUNC = 'EI' # Expected Improvement\n",
    "best_score = 10000\n",
    "EPOCHS = 2000\n",
    "N_CALLS = 200\n",
    "default_parameters = [OTIMIZATION_FUNC, LEARNING_RATE, NUM_LAYERS, DENSE_UNITS, DROPOUT_PROB, ACTIVATION_FUNC]"
   ]
  },
  {
   "cell_type": "code",
   "execution_count": 23,
   "id": "19eb5374",
   "metadata": {},
   "outputs": [],
   "source": [
    "# Multi-Headed MLP Model Generation\n",
    "\n",
    "from tensorflow.keras.models import Sequential\n",
    "from tensorflow.keras.layers import Dense\n",
    "from tensorflow.keras.models import Model\n",
    "from tensorflow.keras.layers import Input\n",
    "from tensorflow.keras.layers import concatenate\n",
    "\n",
    "def create_model(optimization, learning_rate, num_layers, num_dense_nodes, dropout_prob, activation):\n",
    "    # first input model\n",
    "    Layers = [0]*num_layers\n",
    "    Drops=[0]*num_layers\n",
    "    visible= [Input(shape=(n_input,)) for i in range(train_x.shape[2])]\n",
    "    Layers[0]=[Dense(num_dense_nodes, activation=activation)(visible[i]) for i in range(train_x.shape[2])]\n",
    "    Drops[0]=[Dropout(dropout_prob)(Layers[0][i]) for i in range(train_x.shape[2])]\n",
    "    \n",
    "    for n in range(num_layers-1):\n",
    "        Layers[n+1]=[Dense(num_dense_nodes, activation=activation)(Layers[n][i]) for i in range(train_x.shape[2])]\n",
    "        Drops[n+1]=[Dropout(dropout_prob)(Layers[n+1][i]) for i in range(train_x.shape[2])]\n",
    "    merge = concatenate([Drops[num_layers-1][i] for i in range(train_x.shape[2])])\n",
    "    output = Dense(n_out)(merge)\n",
    "    model = Model(inputs=[visible[i] for i in range(train_x.shape[2])], outputs=output)\n",
    "    \n",
    "    \n",
    "    if optimization == 'adam':\n",
    "        optimizer = Adam(learning_rate=learning_rate)\n",
    "    if optimization == 'SGD':\n",
    "        optimizer = SGD(learning_rate=learning_rate)\n",
    "    model.compile(\n",
    "        optimizer=optimizer, loss=LOSS_FUNC, metrics=[METRIC])\n",
    "    return model"
   ]
  },
  {
   "cell_type": "code",
   "execution_count": 24,
   "id": "5364ccf6",
   "metadata": {},
   "outputs": [],
   "source": [
    "# Function to Fit\n",
    "\n",
    "@use_named_args(dimensions=dimensions)\n",
    "def fitness(optimization, learning_rate, num_layers, num_dense_nodes, dropout_prob, activation):\n",
    "    # Create the neural network\n",
    "    model = create_model( optimization=optimization,\n",
    "        learning_rate=learning_rate,num_layers=num_layers,\n",
    "        num_dense_nodes=num_dense_nodes, dropout_prob=dropout_prob,\n",
    "        activation=activation)\n",
    "    \n",
    "    # Save log for tensorboard\n",
    "    callback_log = TensorBoard(\n",
    "        log_dir =\n",
    "\"./21_logs/opt_{0}_lr_{1:.0e}_layers_{3}_nodes_{4}_dropout_{5}_activation_{5}/\".format(\n",
    "        optimization, learning_rate, num_layers, num_dense_nodes, dropout_prob, activation),\n",
    "        histogram_freq=0, write_graph=True, write_grads=False, write_images=False)\n",
    "    \n",
    "    # Train the model.\n",
    "    train_xl=[train_x[:, :, i] for i in range(train_x.shape[2])]\n",
    "    validation_xl=[validation_x[:, :, i] for i in range(train_x.shape[2])]\n",
    "    \n",
    "    history = model.fit( x= train_xl ,y= train_y, epochs=EPOCHS, batch_size=BATCH_SIZE,\n",
    "        validation_data=(validation_xl, validation_y), callbacks=[callback_log],verbose=0)\n",
    "    \n",
    "    # Get the final model performance.\n",
    "    col = [x for x in list(history.history.keys()) if 'val_'+ METRIC in x]\n",
    "    score = history.history[col[0]][-1]\n",
    "    print(\"--> Validation {0}: {1:.3}\".format(METRIC, score))\n",
    "    global best_score\n",
    "    # Track scores and save best model\n",
    "    if score < best_score:\n",
    "        model.save('Optimal-NN')\n",
    "    best_score = score\n",
    "    if score >= 1000 or np.isnan(score):\n",
    "        score=1000\n",
    "    # Clear model to save space\n",
    "    del model\n",
    "    K.clear_session()\n",
    "    \n",
    "    return score"
   ]
  },
  {
   "cell_type": "code",
   "execution_count": 25,
   "id": "d21aa10f",
   "metadata": {},
   "outputs": [
    {
     "name": "stdout",
     "output_type": "stream",
     "text": [
      "--> Validation mape: 9.74\n",
      "INFO:tensorflow:Assets written to: Optimal-NN\\assets\n",
      "--> Validation mape: 95.9\n",
      "--> Validation mape: 8.98\n",
      "INFO:tensorflow:Assets written to: Optimal-NN\\assets\n",
      "--> Validation mape: 1.08e+02\n",
      "--> Validation mape: 13.7\n",
      "INFO:tensorflow:Assets written to: Optimal-NN\\assets\n",
      "--> Validation mape: 1.08e+02\n",
      "--> Validation mape: 15.5\n",
      "INFO:tensorflow:Assets written to: Optimal-NN\\assets\n",
      "--> Validation mape: 67.7\n",
      "--> Validation mape: 8.23\n",
      "INFO:tensorflow:Assets written to: Optimal-NN\\assets\n",
      "--> Validation mape: 1.09e+02\n",
      "--> Validation mape: 37.1\n",
      "INFO:tensorflow:Assets written to: Optimal-NN\\assets\n",
      "--> Validation mape: 13.5\n",
      "INFO:tensorflow:Assets written to: Optimal-NN\\assets\n",
      "--> Validation mape: 7.62\n",
      "INFO:tensorflow:Assets written to: Optimal-NN\\assets\n",
      "--> Validation mape: 8.87\n",
      "--> Validation mape: 8.45\n",
      "INFO:tensorflow:Assets written to: Optimal-NN\\assets\n",
      "--> Validation mape: 8.22\n",
      "INFO:tensorflow:Assets written to: Optimal-NN\\assets\n",
      "--> Validation mape: 89.6\n",
      "--> Validation mape: 10.4\n",
      "INFO:tensorflow:Assets written to: Optimal-NN\\assets\n",
      "--> Validation mape: 8.31\n",
      "INFO:tensorflow:Assets written to: Optimal-NN\\assets\n",
      "--> Validation mape: 7.44\n",
      "INFO:tensorflow:Assets written to: Optimal-NN\\assets\n",
      "--> Validation mape: 45.2\n",
      "--> Validation mape: 41.1\n",
      "INFO:tensorflow:Assets written to: Optimal-NN\\assets\n",
      "--> Validation mape: 10.4\n",
      "INFO:tensorflow:Assets written to: Optimal-NN\\assets\n",
      "--> Validation mape: 8.78\n",
      "INFO:tensorflow:Assets written to: Optimal-NN\\assets\n",
      "--> Validation mape: 6.91\n",
      "INFO:tensorflow:Assets written to: Optimal-NN\\assets\n",
      "--> Validation mape: 8.42\n",
      "--> Validation mape: 37.0\n",
      "--> Validation mape: 8.89\n",
      "INFO:tensorflow:Assets written to: Optimal-NN\\assets\n",
      "--> Validation mape: 5.86\n",
      "INFO:tensorflow:Assets written to: Optimal-NN\\assets\n",
      "--> Validation mape: 9.65\n",
      "--> Validation mape: 9.65\n",
      "--> Validation mape: 8.39\n",
      "INFO:tensorflow:Assets written to: Optimal-NN\\assets\n",
      "--> Validation mape: 17.5\n",
      "--> Validation mape: 7.78\n",
      "INFO:tensorflow:Assets written to: Optimal-NN\\assets\n",
      "--> Validation mape: 9.03\n",
      "--> Validation mape: 7.16\n",
      "INFO:tensorflow:Assets written to: Optimal-NN\\assets\n",
      "--> Validation mape: 9.2\n",
      "--> Validation mape: 9.41\n",
      "--> Validation mape: 10.2\n",
      "--> Validation mape: 14.5\n",
      "--> Validation mape: 8.55\n",
      "INFO:tensorflow:Assets written to: Optimal-NN\\assets\n",
      "--> Validation mape: 10.4\n",
      "--> Validation mape: 7.42\n",
      "INFO:tensorflow:Assets written to: Optimal-NN\\assets\n",
      "--> Validation mape: 9.01\n",
      "--> Validation mape: 8.95\n",
      "INFO:tensorflow:Assets written to: Optimal-NN\\assets\n",
      "--> Validation mape: 7.7\n",
      "INFO:tensorflow:Assets written to: Optimal-NN\\assets\n",
      "--> Validation mape: 11.0\n",
      "--> Validation mape: 18.4\n",
      "--> Validation mape: 11.3\n",
      "INFO:tensorflow:Assets written to: Optimal-NN\\assets\n",
      "--> Validation mape: 9.22\n",
      "INFO:tensorflow:Assets written to: Optimal-NN\\assets\n",
      "--> Validation mape: 11.4\n",
      "--> Validation mape: 8.48\n",
      "INFO:tensorflow:Assets written to: Optimal-NN\\assets\n"
     ]
    },
    {
     "name": "stderr",
     "output_type": "stream",
     "text": [
      "c:\\users\\98912\\.virtualenvs\\98912-eapzcx7p\\lib\\site-packages\\skopt\\optimizer\\optimizer.py:449: UserWarning: The objective has been evaluated at this point before.\n",
      "  warnings.warn(\"The objective has been evaluated \"\n"
     ]
    },
    {
     "name": "stdout",
     "output_type": "stream",
     "text": [
      "--> Validation mape: 9.15\n",
      "--> Validation mape: 23.3\n",
      "--> Validation mape: 6.86\n",
      "INFO:tensorflow:Assets written to: Optimal-NN\\assets\n",
      "--> Validation mape: 43.3\n",
      "--> Validation mape: 8.0\n",
      "INFO:tensorflow:Assets written to: Optimal-NN\\assets\n",
      "--> Validation mape: 8.6\n",
      "--> Validation mape: 13.3\n",
      "--> Validation mape: 6.78\n",
      "INFO:tensorflow:Assets written to: Optimal-NN\\assets\n",
      "--> Validation mape: 7.83\n",
      "--> Validation mape: 8.14\n",
      "--> Validation mape: 20.4\n",
      "--> Validation mape: 9.16\n",
      "INFO:tensorflow:Assets written to: Optimal-NN\\assets\n",
      "--> Validation mape: 8.88\n",
      "INFO:tensorflow:Assets written to: Optimal-NN\\assets\n",
      "--> Validation mape: 11.5\n",
      "--> Validation mape: 7.4\n",
      "INFO:tensorflow:Assets written to: Optimal-NN\\assets\n"
     ]
    },
    {
     "name": "stderr",
     "output_type": "stream",
     "text": [
      "c:\\users\\98912\\.virtualenvs\\98912-eapzcx7p\\lib\\site-packages\\skopt\\optimizer\\optimizer.py:449: UserWarning: The objective has been evaluated at this point before.\n",
      "  warnings.warn(\"The objective has been evaluated \"\n"
     ]
    },
    {
     "name": "stdout",
     "output_type": "stream",
     "text": [
      "--> Validation mape: 7.44\n"
     ]
    },
    {
     "name": "stderr",
     "output_type": "stream",
     "text": [
      "c:\\users\\98912\\.virtualenvs\\98912-eapzcx7p\\lib\\site-packages\\skopt\\optimizer\\optimizer.py:449: UserWarning: The objective has been evaluated at this point before.\n",
      "  warnings.warn(\"The objective has been evaluated \"\n"
     ]
    },
    {
     "name": "stdout",
     "output_type": "stream",
     "text": [
      "--> Validation mape: 7.79\n"
     ]
    },
    {
     "name": "stderr",
     "output_type": "stream",
     "text": [
      "c:\\users\\98912\\.virtualenvs\\98912-eapzcx7p\\lib\\site-packages\\skopt\\optimizer\\optimizer.py:449: UserWarning: The objective has been evaluated at this point before.\n",
      "  warnings.warn(\"The objective has been evaluated \"\n"
     ]
    },
    {
     "name": "stdout",
     "output_type": "stream",
     "text": [
      "--> Validation mape: 8.11\n"
     ]
    },
    {
     "name": "stderr",
     "output_type": "stream",
     "text": [
      "c:\\users\\98912\\.virtualenvs\\98912-eapzcx7p\\lib\\site-packages\\skopt\\optimizer\\optimizer.py:449: UserWarning: The objective has been evaluated at this point before.\n",
      "  warnings.warn(\"The objective has been evaluated \"\n"
     ]
    },
    {
     "name": "stdout",
     "output_type": "stream",
     "text": [
      "--> Validation mape: 9.27\n"
     ]
    },
    {
     "name": "stderr",
     "output_type": "stream",
     "text": [
      "c:\\users\\98912\\.virtualenvs\\98912-eapzcx7p\\lib\\site-packages\\skopt\\optimizer\\optimizer.py:449: UserWarning: The objective has been evaluated at this point before.\n",
      "  warnings.warn(\"The objective has been evaluated \"\n"
     ]
    },
    {
     "name": "stdout",
     "output_type": "stream",
     "text": [
      "--> Validation mape: 7.75\n",
      "INFO:tensorflow:Assets written to: Optimal-NN\\assets\n"
     ]
    },
    {
     "name": "stderr",
     "output_type": "stream",
     "text": [
      "c:\\users\\98912\\.virtualenvs\\98912-eapzcx7p\\lib\\site-packages\\skopt\\optimizer\\optimizer.py:449: UserWarning: The objective has been evaluated at this point before.\n",
      "  warnings.warn(\"The objective has been evaluated \"\n"
     ]
    },
    {
     "name": "stdout",
     "output_type": "stream",
     "text": [
      "--> Validation mape: 8.01\n"
     ]
    },
    {
     "name": "stderr",
     "output_type": "stream",
     "text": [
      "c:\\users\\98912\\.virtualenvs\\98912-eapzcx7p\\lib\\site-packages\\skopt\\optimizer\\optimizer.py:449: UserWarning: The objective has been evaluated at this point before.\n",
      "  warnings.warn(\"The objective has been evaluated \"\n"
     ]
    },
    {
     "name": "stdout",
     "output_type": "stream",
     "text": [
      "--> Validation mape: 9.73\n"
     ]
    },
    {
     "name": "stderr",
     "output_type": "stream",
     "text": [
      "c:\\users\\98912\\.virtualenvs\\98912-eapzcx7p\\lib\\site-packages\\skopt\\optimizer\\optimizer.py:449: UserWarning: The objective has been evaluated at this point before.\n",
      "  warnings.warn(\"The objective has been evaluated \"\n"
     ]
    },
    {
     "name": "stdout",
     "output_type": "stream",
     "text": [
      "--> Validation mape: 7.83\n",
      "INFO:tensorflow:Assets written to: Optimal-NN\\assets\n"
     ]
    },
    {
     "name": "stderr",
     "output_type": "stream",
     "text": [
      "c:\\users\\98912\\.virtualenvs\\98912-eapzcx7p\\lib\\site-packages\\skopt\\optimizer\\optimizer.py:449: UserWarning: The objective has been evaluated at this point before.\n",
      "  warnings.warn(\"The objective has been evaluated \"\n"
     ]
    },
    {
     "name": "stdout",
     "output_type": "stream",
     "text": [
      "--> Validation mape: 9.93\n"
     ]
    },
    {
     "name": "stderr",
     "output_type": "stream",
     "text": [
      "c:\\users\\98912\\.virtualenvs\\98912-eapzcx7p\\lib\\site-packages\\skopt\\optimizer\\optimizer.py:449: UserWarning: The objective has been evaluated at this point before.\n",
      "  warnings.warn(\"The objective has been evaluated \"\n"
     ]
    },
    {
     "name": "stdout",
     "output_type": "stream",
     "text": [
      "--> Validation mape: 8.21\n",
      "INFO:tensorflow:Assets written to: Optimal-NN\\assets\n"
     ]
    },
    {
     "name": "stderr",
     "output_type": "stream",
     "text": [
      "c:\\users\\98912\\.virtualenvs\\98912-eapzcx7p\\lib\\site-packages\\skopt\\optimizer\\optimizer.py:449: UserWarning: The objective has been evaluated at this point before.\n",
      "  warnings.warn(\"The objective has been evaluated \"\n"
     ]
    },
    {
     "name": "stdout",
     "output_type": "stream",
     "text": [
      "--> Validation mape: 7.81\n",
      "INFO:tensorflow:Assets written to: Optimal-NN\\assets\n"
     ]
    },
    {
     "name": "stderr",
     "output_type": "stream",
     "text": [
      "c:\\users\\98912\\.virtualenvs\\98912-eapzcx7p\\lib\\site-packages\\skopt\\optimizer\\optimizer.py:449: UserWarning: The objective has been evaluated at this point before.\n",
      "  warnings.warn(\"The objective has been evaluated \"\n"
     ]
    },
    {
     "name": "stdout",
     "output_type": "stream",
     "text": [
      "--> Validation mape: 7.55\n",
      "INFO:tensorflow:Assets written to: Optimal-NN\\assets\n"
     ]
    },
    {
     "name": "stderr",
     "output_type": "stream",
     "text": [
      "c:\\users\\98912\\.virtualenvs\\98912-eapzcx7p\\lib\\site-packages\\skopt\\optimizer\\optimizer.py:449: UserWarning: The objective has been evaluated at this point before.\n",
      "  warnings.warn(\"The objective has been evaluated \"\n"
     ]
    },
    {
     "name": "stdout",
     "output_type": "stream",
     "text": [
      "--> Validation mape: 9.55\n"
     ]
    },
    {
     "name": "stderr",
     "output_type": "stream",
     "text": [
      "c:\\users\\98912\\.virtualenvs\\98912-eapzcx7p\\lib\\site-packages\\skopt\\optimizer\\optimizer.py:449: UserWarning: The objective has been evaluated at this point before.\n",
      "  warnings.warn(\"The objective has been evaluated \"\n"
     ]
    },
    {
     "name": "stdout",
     "output_type": "stream",
     "text": [
      "--> Validation mape: 7.8\n",
      "INFO:tensorflow:Assets written to: Optimal-NN\\assets\n"
     ]
    },
    {
     "name": "stderr",
     "output_type": "stream",
     "text": [
      "c:\\users\\98912\\.virtualenvs\\98912-eapzcx7p\\lib\\site-packages\\skopt\\optimizer\\optimizer.py:449: UserWarning: The objective has been evaluated at this point before.\n",
      "  warnings.warn(\"The objective has been evaluated \"\n"
     ]
    },
    {
     "name": "stdout",
     "output_type": "stream",
     "text": [
      "--> Validation mape: 9.6\n"
     ]
    },
    {
     "name": "stderr",
     "output_type": "stream",
     "text": [
      "c:\\users\\98912\\.virtualenvs\\98912-eapzcx7p\\lib\\site-packages\\skopt\\optimizer\\optimizer.py:449: UserWarning: The objective has been evaluated at this point before.\n",
      "  warnings.warn(\"The objective has been evaluated \"\n"
     ]
    },
    {
     "name": "stdout",
     "output_type": "stream",
     "text": [
      "--> Validation mape: 8.89\n",
      "INFO:tensorflow:Assets written to: Optimal-NN\\assets\n",
      "--> Validation mape: 9.98\n"
     ]
    },
    {
     "name": "stderr",
     "output_type": "stream",
     "text": [
      "c:\\users\\98912\\.virtualenvs\\98912-eapzcx7p\\lib\\site-packages\\skopt\\optimizer\\optimizer.py:449: UserWarning: The objective has been evaluated at this point before.\n",
      "  warnings.warn(\"The objective has been evaluated \"\n"
     ]
    },
    {
     "name": "stdout",
     "output_type": "stream",
     "text": [
      "--> Validation mape: 8.22\n",
      "INFO:tensorflow:Assets written to: Optimal-NN\\assets\n"
     ]
    },
    {
     "name": "stderr",
     "output_type": "stream",
     "text": [
      "c:\\users\\98912\\.virtualenvs\\98912-eapzcx7p\\lib\\site-packages\\skopt\\optimizer\\optimizer.py:449: UserWarning: The objective has been evaluated at this point before.\n",
      "  warnings.warn(\"The objective has been evaluated \"\n"
     ]
    },
    {
     "name": "stdout",
     "output_type": "stream",
     "text": [
      "--> Validation mape: 7.68\n",
      "INFO:tensorflow:Assets written to: Optimal-NN\\assets\n"
     ]
    },
    {
     "name": "stderr",
     "output_type": "stream",
     "text": [
      "c:\\users\\98912\\.virtualenvs\\98912-eapzcx7p\\lib\\site-packages\\skopt\\optimizer\\optimizer.py:449: UserWarning: The objective has been evaluated at this point before.\n",
      "  warnings.warn(\"The objective has been evaluated \"\n"
     ]
    },
    {
     "name": "stdout",
     "output_type": "stream",
     "text": [
      "--> Validation mape: 7.98\n"
     ]
    },
    {
     "name": "stderr",
     "output_type": "stream",
     "text": [
      "c:\\users\\98912\\.virtualenvs\\98912-eapzcx7p\\lib\\site-packages\\skopt\\optimizer\\optimizer.py:449: UserWarning: The objective has been evaluated at this point before.\n",
      "  warnings.warn(\"The objective has been evaluated \"\n"
     ]
    },
    {
     "name": "stdout",
     "output_type": "stream",
     "text": [
      "--> Validation mape: 7.93\n",
      "INFO:tensorflow:Assets written to: Optimal-NN\\assets\n"
     ]
    },
    {
     "name": "stderr",
     "output_type": "stream",
     "text": [
      "c:\\users\\98912\\.virtualenvs\\98912-eapzcx7p\\lib\\site-packages\\skopt\\optimizer\\optimizer.py:449: UserWarning: The objective has been evaluated at this point before.\n",
      "  warnings.warn(\"The objective has been evaluated \"\n"
     ]
    },
    {
     "name": "stdout",
     "output_type": "stream",
     "text": [
      "--> Validation mape: 9.51\n",
      "--> Validation mape: 9.16\n",
      "INFO:tensorflow:Assets written to: Optimal-NN\\assets\n"
     ]
    },
    {
     "name": "stderr",
     "output_type": "stream",
     "text": [
      "c:\\users\\98912\\.virtualenvs\\98912-eapzcx7p\\lib\\site-packages\\skopt\\optimizer\\optimizer.py:449: UserWarning: The objective has been evaluated at this point before.\n",
      "  warnings.warn(\"The objective has been evaluated \"\n"
     ]
    },
    {
     "name": "stdout",
     "output_type": "stream",
     "text": [
      "--> Validation mape: 7.88\n",
      "INFO:tensorflow:Assets written to: Optimal-NN\\assets\n"
     ]
    },
    {
     "name": "stderr",
     "output_type": "stream",
     "text": [
      "c:\\users\\98912\\.virtualenvs\\98912-eapzcx7p\\lib\\site-packages\\skopt\\optimizer\\optimizer.py:449: UserWarning: The objective has been evaluated at this point before.\n",
      "  warnings.warn(\"The objective has been evaluated \"\n"
     ]
    },
    {
     "name": "stdout",
     "output_type": "stream",
     "text": [
      "--> Validation mape: 7.85\n",
      "INFO:tensorflow:Assets written to: Optimal-NN\\assets\n"
     ]
    },
    {
     "name": "stderr",
     "output_type": "stream",
     "text": [
      "c:\\users\\98912\\.virtualenvs\\98912-eapzcx7p\\lib\\site-packages\\skopt\\optimizer\\optimizer.py:449: UserWarning: The objective has been evaluated at this point before.\n",
      "  warnings.warn(\"The objective has been evaluated \"\n"
     ]
    },
    {
     "name": "stdout",
     "output_type": "stream",
     "text": [
      "--> Validation mape: 7.6\n",
      "INFO:tensorflow:Assets written to: Optimal-NN\\assets\n"
     ]
    },
    {
     "name": "stderr",
     "output_type": "stream",
     "text": [
      "c:\\users\\98912\\.virtualenvs\\98912-eapzcx7p\\lib\\site-packages\\skopt\\optimizer\\optimizer.py:449: UserWarning: The objective has been evaluated at this point before.\n",
      "  warnings.warn(\"The objective has been evaluated \"\n"
     ]
    },
    {
     "name": "stdout",
     "output_type": "stream",
     "text": [
      "--> Validation mape: 8.65\n"
     ]
    },
    {
     "name": "stderr",
     "output_type": "stream",
     "text": [
      "c:\\users\\98912\\.virtualenvs\\98912-eapzcx7p\\lib\\site-packages\\skopt\\optimizer\\optimizer.py:449: UserWarning: The objective has been evaluated at this point before.\n",
      "  warnings.warn(\"The objective has been evaluated \"\n"
     ]
    },
    {
     "name": "stdout",
     "output_type": "stream",
     "text": [
      "--> Validation mape: 7.79\n",
      "INFO:tensorflow:Assets written to: Optimal-NN\\assets\n"
     ]
    },
    {
     "name": "stderr",
     "output_type": "stream",
     "text": [
      "c:\\users\\98912\\.virtualenvs\\98912-eapzcx7p\\lib\\site-packages\\skopt\\optimizer\\optimizer.py:449: UserWarning: The objective has been evaluated at this point before.\n",
      "  warnings.warn(\"The objective has been evaluated \"\n"
     ]
    },
    {
     "name": "stdout",
     "output_type": "stream",
     "text": [
      "--> Validation mape: 8.1\n"
     ]
    },
    {
     "name": "stderr",
     "output_type": "stream",
     "text": [
      "c:\\users\\98912\\.virtualenvs\\98912-eapzcx7p\\lib\\site-packages\\skopt\\optimizer\\optimizer.py:449: UserWarning: The objective has been evaluated at this point before.\n",
      "  warnings.warn(\"The objective has been evaluated \"\n"
     ]
    },
    {
     "name": "stdout",
     "output_type": "stream",
     "text": [
      "--> Validation mape: 8.01\n",
      "INFO:tensorflow:Assets written to: Optimal-NN\\assets\n",
      "--> Validation mape: 8.64\n"
     ]
    },
    {
     "name": "stderr",
     "output_type": "stream",
     "text": [
      "c:\\users\\98912\\.virtualenvs\\98912-eapzcx7p\\lib\\site-packages\\skopt\\optimizer\\optimizer.py:449: UserWarning: The objective has been evaluated at this point before.\n",
      "  warnings.warn(\"The objective has been evaluated \"\n"
     ]
    },
    {
     "name": "stdout",
     "output_type": "stream",
     "text": [
      "--> Validation mape: 8.18\n",
      "INFO:tensorflow:Assets written to: Optimal-NN\\assets\n"
     ]
    },
    {
     "name": "stderr",
     "output_type": "stream",
     "text": [
      "c:\\users\\98912\\.virtualenvs\\98912-eapzcx7p\\lib\\site-packages\\skopt\\optimizer\\optimizer.py:449: UserWarning: The objective has been evaluated at this point before.\n",
      "  warnings.warn(\"The objective has been evaluated \"\n"
     ]
    },
    {
     "name": "stdout",
     "output_type": "stream",
     "text": [
      "--> Validation mape: 7.82\n",
      "INFO:tensorflow:Assets written to: Optimal-NN\\assets\n"
     ]
    },
    {
     "name": "stderr",
     "output_type": "stream",
     "text": [
      "c:\\users\\98912\\.virtualenvs\\98912-eapzcx7p\\lib\\site-packages\\skopt\\optimizer\\optimizer.py:449: UserWarning: The objective has been evaluated at this point before.\n",
      "  warnings.warn(\"The objective has been evaluated \"\n"
     ]
    },
    {
     "name": "stdout",
     "output_type": "stream",
     "text": [
      "--> Validation mape: 8.68\n"
     ]
    },
    {
     "name": "stderr",
     "output_type": "stream",
     "text": [
      "c:\\users\\98912\\.virtualenvs\\98912-eapzcx7p\\lib\\site-packages\\skopt\\optimizer\\optimizer.py:449: UserWarning: The objective has been evaluated at this point before.\n",
      "  warnings.warn(\"The objective has been evaluated \"\n"
     ]
    },
    {
     "name": "stdout",
     "output_type": "stream",
     "text": [
      "--> Validation mape: 7.79\n",
      "INFO:tensorflow:Assets written to: Optimal-NN\\assets\n"
     ]
    },
    {
     "name": "stderr",
     "output_type": "stream",
     "text": [
      "c:\\users\\98912\\.virtualenvs\\98912-eapzcx7p\\lib\\site-packages\\skopt\\optimizer\\optimizer.py:449: UserWarning: The objective has been evaluated at this point before.\n",
      "  warnings.warn(\"The objective has been evaluated \"\n"
     ]
    },
    {
     "name": "stdout",
     "output_type": "stream",
     "text": [
      "--> Validation mape: 9.53\n"
     ]
    },
    {
     "name": "stderr",
     "output_type": "stream",
     "text": [
      "c:\\users\\98912\\.virtualenvs\\98912-eapzcx7p\\lib\\site-packages\\skopt\\optimizer\\optimizer.py:449: UserWarning: The objective has been evaluated at this point before.\n",
      "  warnings.warn(\"The objective has been evaluated \"\n"
     ]
    },
    {
     "name": "stdout",
     "output_type": "stream",
     "text": [
      "--> Validation mape: 8.7\n",
      "INFO:tensorflow:Assets written to: Optimal-NN\\assets\n"
     ]
    },
    {
     "name": "stderr",
     "output_type": "stream",
     "text": [
      "c:\\users\\98912\\.virtualenvs\\98912-eapzcx7p\\lib\\site-packages\\skopt\\optimizer\\optimizer.py:449: UserWarning: The objective has been evaluated at this point before.\n",
      "  warnings.warn(\"The objective has been evaluated \"\n"
     ]
    },
    {
     "name": "stdout",
     "output_type": "stream",
     "text": [
      "--> Validation mape: 8.46\n",
      "INFO:tensorflow:Assets written to: Optimal-NN\\assets\n"
     ]
    },
    {
     "name": "stderr",
     "output_type": "stream",
     "text": [
      "c:\\users\\98912\\.virtualenvs\\98912-eapzcx7p\\lib\\site-packages\\skopt\\optimizer\\optimizer.py:449: UserWarning: The objective has been evaluated at this point before.\n",
      "  warnings.warn(\"The objective has been evaluated \"\n"
     ]
    },
    {
     "name": "stdout",
     "output_type": "stream",
     "text": [
      "--> Validation mape: 9.64\n"
     ]
    },
    {
     "name": "stderr",
     "output_type": "stream",
     "text": [
      "c:\\users\\98912\\.virtualenvs\\98912-eapzcx7p\\lib\\site-packages\\skopt\\optimizer\\optimizer.py:449: UserWarning: The objective has been evaluated at this point before.\n",
      "  warnings.warn(\"The objective has been evaluated \"\n"
     ]
    },
    {
     "name": "stdout",
     "output_type": "stream",
     "text": [
      "--> Validation mape: 8.51\n",
      "INFO:tensorflow:Assets written to: Optimal-NN\\assets\n"
     ]
    },
    {
     "name": "stderr",
     "output_type": "stream",
     "text": [
      "c:\\users\\98912\\.virtualenvs\\98912-eapzcx7p\\lib\\site-packages\\skopt\\optimizer\\optimizer.py:449: UserWarning: The objective has been evaluated at this point before.\n",
      "  warnings.warn(\"The objective has been evaluated \"\n"
     ]
    },
    {
     "name": "stdout",
     "output_type": "stream",
     "text": [
      "--> Validation mape: 7.8\n",
      "INFO:tensorflow:Assets written to: Optimal-NN\\assets\n"
     ]
    },
    {
     "name": "stderr",
     "output_type": "stream",
     "text": [
      "c:\\users\\98912\\.virtualenvs\\98912-eapzcx7p\\lib\\site-packages\\skopt\\optimizer\\optimizer.py:449: UserWarning: The objective has been evaluated at this point before.\n",
      "  warnings.warn(\"The objective has been evaluated \"\n"
     ]
    },
    {
     "name": "stdout",
     "output_type": "stream",
     "text": [
      "--> Validation mape: 8.08\n"
     ]
    },
    {
     "name": "stderr",
     "output_type": "stream",
     "text": [
      "c:\\users\\98912\\.virtualenvs\\98912-eapzcx7p\\lib\\site-packages\\skopt\\optimizer\\optimizer.py:449: UserWarning: The objective has been evaluated at this point before.\n",
      "  warnings.warn(\"The objective has been evaluated \"\n"
     ]
    },
    {
     "name": "stdout",
     "output_type": "stream",
     "text": [
      "--> Validation mape: 8.64\n",
      "--> Validation mape: 10.6\n",
      "--> Validation mape: 7.54\n",
      "INFO:tensorflow:Assets written to: Optimal-NN\\assets\n",
      "--> Validation mape: 15.7\n",
      "--> Validation mape: 8.31\n",
      "INFO:tensorflow:Assets written to: Optimal-NN\\assets\n",
      "--> Validation mape: 8.01\n",
      "INFO:tensorflow:Assets written to: Optimal-NN\\assets\n",
      "--> Validation mape: 7.96\n",
      "INFO:tensorflow:Assets written to: Optimal-NN\\assets\n",
      "--> Validation mape: 7.77\n",
      "INFO:tensorflow:Assets written to: Optimal-NN\\assets\n",
      "--> Validation mape: 7.84\n",
      "--> Validation mape: 8.07\n",
      "--> Validation mape: 7.2\n",
      "INFO:tensorflow:Assets written to: Optimal-NN\\assets\n",
      "--> Validation mape: 7.71\n",
      "--> Validation mape: 7.91\n",
      "--> Validation mape: 6.97\n",
      "INFO:tensorflow:Assets written to: Optimal-NN\\assets\n",
      "--> Validation mape: 8.49\n",
      "--> Validation mape: 7.92\n",
      "INFO:tensorflow:Assets written to: Optimal-NN\\assets\n",
      "--> Validation mape: 7.92\n",
      "--> Validation mape: 7.59\n",
      "INFO:tensorflow:Assets written to: Optimal-NN\\assets\n",
      "--> Validation mape: 8.8\n",
      "--> Validation mape: 8.02\n",
      "INFO:tensorflow:Assets written to: Optimal-NN\\assets\n",
      "--> Validation mape: 9.23\n",
      "--> Validation mape: 10.1\n",
      "--> Validation mape: 9.78\n",
      "INFO:tensorflow:Assets written to: Optimal-NN\\assets\n",
      "--> Validation mape: 8.63\n",
      "INFO:tensorflow:Assets written to: Optimal-NN\\assets\n",
      "--> Validation mape: 8.33\n",
      "INFO:tensorflow:Assets written to: Optimal-NN\\assets\n",
      "--> Validation mape: 9.94\n",
      "--> Validation mape: 10.7\n",
      "--> Validation mape: 9.6\n",
      "INFO:tensorflow:Assets written to: Optimal-NN\\assets\n",
      "--> Validation mape: 10.4\n",
      "--> Validation mape: 10.0\n",
      "INFO:tensorflow:Assets written to: Optimal-NN\\assets\n",
      "--> Validation mape: 11.8\n",
      "--> Validation mape: 12.2\n",
      "--> Validation mape: 6.29\n",
      "INFO:tensorflow:Assets written to: Optimal-NN\\assets\n",
      "--> Validation mape: 8.02\n",
      "--> Validation mape: 7.91\n",
      "INFO:tensorflow:Assets written to: Optimal-NN\\assets\n",
      "--> Validation mape: 7.33\n",
      "INFO:tensorflow:Assets written to: Optimal-NN\\assets\n",
      "--> Validation mape: 11.3\n",
      "--> Validation mape: 7.92\n",
      "INFO:tensorflow:Assets written to: Optimal-NN\\assets\n",
      "--> Validation mape: 10.4\n",
      "--> Validation mape: 8.72\n",
      "INFO:tensorflow:Assets written to: Optimal-NN\\assets\n",
      "--> Validation mape: 8.1\n",
      "INFO:tensorflow:Assets written to: Optimal-NN\\assets\n",
      "--> Validation mape: 11.2\n",
      "--> Validation mape: 8.96\n",
      "INFO:tensorflow:Assets written to: Optimal-NN\\assets\n",
      "--> Validation mape: 9.61\n",
      "--> Validation mape: 11.3\n",
      "--> Validation mape: 8.6\n",
      "INFO:tensorflow:Assets written to: Optimal-NN\\assets\n",
      "--> Validation mape: 13.7\n",
      "--> Validation mape: 8.0\n",
      "INFO:tensorflow:Assets written to: Optimal-NN\\assets\n",
      "--> Validation mape: 10.8\n",
      "--> Validation mape: 11.1\n",
      "--> Validation mape: 8.36\n",
      "INFO:tensorflow:Assets written to: Optimal-NN\\assets\n",
      "--> Validation mape: 10.3\n",
      "--> Validation mape: 9.69\n",
      "INFO:tensorflow:Assets written to: Optimal-NN\\assets\n",
      "--> Validation mape: 7.46\n",
      "INFO:tensorflow:Assets written to: Optimal-NN\\assets\n",
      "--> Validation mape: 7.84\n",
      "--> Validation mape: 8.52\n",
      "--> Validation mape: 9.05\n",
      "--> Validation mape: 9.54\n",
      "--> Validation mape: 8.36\n",
      "INFO:tensorflow:Assets written to: Optimal-NN\\assets\n",
      "--> Validation mape: 13.2\n",
      "--> Validation mape: 7.47\n",
      "INFO:tensorflow:Assets written to: Optimal-NN\\assets\n",
      "--> Validation mape: 8.53\n",
      "--> Validation mape: 8.69\n",
      "--> Validation mape: 8.66\n",
      "INFO:tensorflow:Assets written to: Optimal-NN\\assets\n",
      "--> Validation mape: 10.8\n",
      "--> Validation mape: 10.0\n",
      "INFO:tensorflow:Assets written to: Optimal-NN\\assets\n",
      "--> Validation mape: 8.03\n",
      "INFO:tensorflow:Assets written to: Optimal-NN\\assets\n",
      "--> Validation mape: 8.17\n",
      "--> Validation mape: 7.65\n",
      "INFO:tensorflow:Assets written to: Optimal-NN\\assets\n",
      "--> Validation mape: 11.0\n",
      "--> Validation mape: 10.5\n",
      "INFO:tensorflow:Assets written to: Optimal-NN\\assets\n",
      "--> Validation mape: 8.26\n",
      "INFO:tensorflow:Assets written to: Optimal-NN\\assets\n",
      "--> Validation mape: 7.57\n",
      "INFO:tensorflow:Assets written to: Optimal-NN\\assets\n",
      "--> Validation mape: 8.77\n",
      "--> Validation mape: 11.8\n",
      "--> Validation mape: 10.8\n",
      "INFO:tensorflow:Assets written to: Optimal-NN\\assets\n",
      "--> Validation mape: 9.4\n",
      "INFO:tensorflow:Assets written to: Optimal-NN\\assets\n",
      "--> Validation mape: 10.1\n",
      "--> Validation mape: 10.1\n",
      "--> Validation mape: 10.5\n",
      "--> Validation mape: 9.08\n",
      "INFO:tensorflow:Assets written to: Optimal-NN\\assets\n",
      "--> Validation mape: 8.07\n",
      "INFO:tensorflow:Assets written to: Optimal-NN\\assets\n",
      "--> Validation mape: 11.2\n",
      "--> Validation mape: 8.86\n",
      "INFO:tensorflow:Assets written to: Optimal-NN\\assets\n",
      "--> Validation mape: 9.57\n",
      "--> Validation mape: 9.11\n",
      "INFO:tensorflow:Assets written to: Optimal-NN\\assets\n",
      "--> Validation mape: 9.68\n",
      "--> Validation mape: 8.94\n",
      "INFO:tensorflow:Assets written to: Optimal-NN\\assets\n",
      "--> Validation mape: 8.72\n",
      "INFO:tensorflow:Assets written to: Optimal-NN\\assets\n",
      "--> Validation mape: 11.2\n",
      "--> Validation mape: 11.4\n",
      "Runtime of the program is 106963.6576564312\n"
     ]
    }
   ],
   "source": [
    "# Gaussian Process Minimization\n",
    "\n",
    "start = time.time()\n",
    "\n",
    "search_result = gp_minimize(func=fitness,\n",
    "    dimensions=dimensions,\n",
    "    n_calls=N_CALLS,\n",
    "    x0=default_parameters)\n",
    "\n",
    "end = time.time()\n",
    "print(f\"Runtime of the program is {end - start}\")\n"
   ]
  },
  {
   "cell_type": "code",
   "execution_count": 26,
   "id": "64083123",
   "metadata": {},
   "outputs": [
    {
     "data": {
      "text/plain": [
       "<AxesSubplot:title={'center':'Convergence plot'}, xlabel='Number of calls $n$', ylabel='$\\\\min f(x)$ after $n$ calls'>"
      ]
     },
     "execution_count": 26,
     "metadata": {},
     "output_type": "execute_result"
    },
    {
     "data": {
      "image/png": "[encoded data removed]",
      "text/plain": [
       "<Figure size 432x288 with 1 Axes>"
      ]
     },
     "metadata": {
      "needs_background": "light"
     },
     "output_type": "display_data"
    }
   ],
   "source": [
    "plot_convergence(search_result)"
   ]
  },
  {
   "cell_type": "code",
   "execution_count": 27,
   "id": "9af230be",
   "metadata": {},
   "outputs": [
    {
     "data": {
      "image/png": "[encoded data removed]",
      "text/plain": [
       "<Figure size 864x864 with 36 Axes>"
      ]
     },
     "metadata": {
      "needs_background": "light"
     },
     "output_type": "display_data"
    }
   ],
   "source": [
    "_ = plot_objective(result=search_result)"
   ]
  },
  {
   "cell_type": "code",
   "execution_count": 28,
   "id": "8631a780",
   "metadata": {},
   "outputs": [],
   "source": [
    "#https://scikit-optimize.github.io/stable/auto_examples/store-and-load-results.html\n",
    "from skopt import dump, load\n",
    "dump(search_result, 'mhMLP2.pkl')"
   ]
  },
  {
   "cell_type": "code",
   "execution_count": 12,
   "id": "d301034c",
   "metadata": {},
   "outputs": [],
   "source": [
    "#from skopt import dump, load\n",
    "res_loaded = skopt.load('mhMLP.pkl')"
   ]
  },
  {
   "cell_type": "code",
   "execution_count": 13,
   "id": "d38272d1",
   "metadata": {},
   "outputs": [
    {
     "data": {
      "image/png": "[encoded data removed]",
      "text/plain": [
       "<Figure size 864x864 with 36 Axes>"
      ]
     },
     "metadata": {
      "needs_background": "light"
     },
     "output_type": "display_data"
    }
   ],
   "source": [
    "_ = plot_objective(result=res_loaded)"
   ]
  },
  {
   "cell_type": "code",
   "execution_count": 29,
   "id": "b3229165",
   "metadata": {},
   "outputs": [
    {
     "data": {
      "text/plain": [
       "['adam', 0.0049329927947822285, 3, 67, 0.01, 'sigmoid']"
      ]
     },
     "execution_count": 29,
     "metadata": {},
     "output_type": "execute_result"
    }
   ],
   "source": [
    "search_result.x"
   ]
  },
  {
   "cell_type": "code",
   "execution_count": 30,
   "id": "db506f41",
   "metadata": {},
   "outputs": [
    {
     "data": {
      "text/plain": [
       "5.863099098205566"
      ]
     },
     "execution_count": 30,
     "metadata": {},
     "output_type": "execute_result"
    }
   ],
   "source": [
    "search_result.fun"
   ]
  },
  {
   "cell_type": "code",
   "execution_count": 17,
   "id": "63c1fa7b",
   "metadata": {},
   "outputs": [
    {
     "data": {
      "text/plain": [
       "[['adam', 0.001, 1, 30, 0.8, 'relu'],\n",
       " ['adam', 0.005437875211769186, 2, 46, 0.5172581764962749, 'relu'],\n",
       " ['SGD', 0.022990934275754285, 1, 38, 0.8888599826609817, 'sigmoid'],\n",
       " ['adam', 0.009804387333194832, 2, 58, 0.8145998153330066, 'sigmoid'],\n",
       " ['SGD', 0.0072355043083400395, 2, 58, 0.7945841692985762, 'sigmoid'],\n",
       " ['adam', 0.07692614986411396, 2, 34, 0.5015956555879645, 'relu'],\n",
       " ['adam', 0.005664629880460368, 1, 57, 0.686911298009207, 'sigmoid'],\n",
       " ['adam', 0.001356380254112945, 3, 46, 0.544126487339355, 'relu'],\n",
       " ['SGD', 0.08571701400322773, 1, 45, 0.737305918601382, 'sigmoid'],\n",
       " ['SGD', 0.0035309346798334776, 2, 49, 0.927939060459047, 'relu'],\n",
       " ['SGD', 0.012311800330450715, 3, 55, 0.5724937906038388, 'softmax'],\n",
       " ['adam', 0.0014647638200498824, 3, 49, 0.5, 'relu'],\n",
       " ['adam', 0.0015535684351842998, 3, 51, 0.5, 'relu'],\n",
       " ['adam', 0.001800270793190273, 3, 54, 0.5448158362729423, 'relu'],\n",
       " ['adam', 0.009045261926862223, 3, 30, 0.5, 'relu'],\n",
       " ['adam', 0.004608474409189597, 3, 30, 0.5, 'relu'],\n",
       " ['adam', 0.011457285372554178, 3, 30, 0.5, 'relu'],\n",
       " ['SGD', 0.001705997969599665, 3, 39, 0.9191467790227374, 'relu'],\n",
       " ['adam', 0.0014529964564362003, 1, 30, 0.5, 'relu'],\n",
       " ['adam', 0.0014503362867370456, 1, 30, 0.99, 'softmax'],\n",
       " ['adam', 0.001257774358499739, 1, 30, 0.5, 'relu'],\n",
       " ['adam', 0.008594060159272443, 1, 30, 0.5, 'sigmoid'],\n",
       " ['adam', 0.008697840373315916, 1, 30, 0.5, 'softmax'],\n",
       " ['adam', 0.011578748401937046, 1, 30, 0.5, 'softmax'],\n",
       " ['adam', 0.01205516673233438, 1, 30, 0.5, 'sigmoid'],\n",
       " ['adam', 0.0014443756764736298, 1, 30, 0.5, 'relu'],\n",
       " ['adam', 0.001455528475080079, 1, 30, 0.99, 'relu'],\n",
       " ['adam', 0.001, 1, 30, 0.6749900317485436, 'relu'],\n",
       " ['adam', 0.001, 1, 30, 0.7536776462649983, 'softmax'],\n",
       " ['adam', 0.010019484147632809, 1, 30, 0.7266579945405629, 'softmax'],\n",
       " ['adam', 0.008661845765957696, 1, 30, 0.5894322007790822, 'softmax'],\n",
       " ['adam', 0.008578885299104716, 1, 30, 0.7686950035600958, 'softmax'],\n",
       " ['adam', 0.0119312620836898, 1, 57, 0.7294304291575662, 'sigmoid'],\n",
       " ['adam', 0.016288718276228145, 3, 68, 0.844746030081841, 'relu'],\n",
       " ['adam', 0.011788355941382335, 1, 34, 0.7189380930695176, 'softmax'],\n",
       " ['adam', 0.001, 1, 31, 0.5105113982636377, 'softmax'],\n",
       " ['adam', 0.001, 1, 30, 0.53508881476209, 'softmax'],\n",
       " ['adam', 0.001, 1, 30, 0.5416541382413277, 'softmax'],\n",
       " ['adam', 0.001, 1, 30, 0.5502104894417759, 'sigmoid'],\n",
       " ['adam', 0.001, 1, 70, 0.5562810763029207, 'softmax'],\n",
       " ['adam', 0.001, 1, 70, 0.5, 'softmax'],\n",
       " ['adam', 0.001, 1, 70, 0.5973291872515023, 'softmax'],\n",
       " ['adam', 0.008175814780711398, 1, 70, 0.7400897857775306, 'relu'],\n",
       " ['adam', 0.001, 1, 30, 0.5, 'relu'],\n",
       " ['adam', 0.001, 3, 30, 0.5, 'softmax'],\n",
       " ['adam', 0.001, 1, 30, 0.6160762252199778, 'softmax'],\n",
       " ['adam', 0.002920205949065478, 1, 70, 0.5, 'softmax'],\n",
       " ['adam', 0.001, 1, 30, 0.6291609677630998, 'softmax'],\n",
       " ['adam', 0.0028663067175360097, 1, 70, 0.5, 'softmax'],\n",
       " ['adam', 0.0028862188003767005, 1, 70, 0.5, 'softmax'],\n",
       " ['adam', 0.002857168431126106, 1, 30, 0.5, 'softmax'],\n",
       " ['adam', 0.0025645125125837577, 1, 70, 0.5426675909963086, 'sigmoid'],\n",
       " ['adam', 0.005099538955718085, 1, 30, 0.5, 'softmax'],\n",
       " ['adam', 0.006171953525007724, 1, 70, 0.5, 'softmax'],\n",
       " ['adam', 0.001, 1, 30, 0.5, 'relu'],\n",
       " ['adam', 0.006352736114153834, 1, 49, 0.5837500481947154, 'sigmoid'],\n",
       " ['adam', 0.0014321803086594779, 2, 50, 0.5217460718101672, 'relu'],\n",
       " ['adam', 0.001, 1, 70, 0.5, 'relu'],\n",
       " ['adam', 0.001, 1, 30, 0.6091067594622719, 'relu'],\n",
       " ['adam', 0.008053504925464739, 1, 30, 0.7308525056039887, 'sigmoid'],\n",
       " ['adam', 0.0042879952362427235, 1, 30, 0.5, 'softmax'],\n",
       " ['adam', 0.0017723618540047823, 1, 30, 0.5, 'softmax'],\n",
       " ['adam', 0.048522043131360285, 1, 54, 0.8098793371764232, 'sigmoid'],\n",
       " ['adam', 0.001, 1, 51, 0.5, 'relu'],\n",
       " ['adam', 0.001, 1, 61, 0.8231994551963645, 'softmax'],\n",
       " ['adam', 0.007661228668053243, 1, 57, 0.7972899681939535, 'softmax'],\n",
       " ['adam', 0.06788502590464311, 1, 70, 0.9163466369085587, 'sigmoid'],\n",
       " ['adam', 0.004042845094032349, 1, 70, 0.7830966558301558, 'softmax'],\n",
       " ['adam', 0.001, 1, 53, 0.5, 'softmax'],\n",
       " ['adam', 0.001, 1, 30, 0.5512091793638196, 'softmax'],\n",
       " ['adam', 0.05914453187552482, 1, 58, 0.7682801230262926, 'softmax'],\n",
       " ['adam', 0.1, 2, 49, 0.6141127017323774, 'relu'],\n",
       " ['adam', 0.061932920821832715, 1, 70, 0.8660531782467491, 'softmax'],\n",
       " ['adam', 0.001, 1, 30, 0.7200880604869333, 'sigmoid'],\n",
       " ['adam', 0.1, 1, 32, 0.8263549055379367, 'softmax'],\n",
       " ['adam', 0.042528503640701126, 1, 70, 0.85893694207906, 'sigmoid'],\n",
       " ['adam', 0.0056791717664769915, 1, 70, 0.809941035522532, 'softmax'],\n",
       " ['adam', 0.043355407002004714, 1, 70, 0.8431838060385388, 'softmax'],\n",
       " ['adam', 0.010378290110505166, 1, 36, 0.5, 'softmax'],\n",
       " ['adam', 0.04348889052507358, 1, 61, 0.8634405288595317, 'relu'],\n",
       " ['adam', 0.006400056275018254, 1, 70, 0.9221733276102173, 'softmax'],\n",
       " ['adam', 0.06029940347279654, 1, 66, 0.7828414003665063, 'sigmoid'],\n",
       " ['adam', 0.0600207276883493, 1, 68, 0.7724090648287731, 'sigmoid'],\n",
       " ['adam', 0.05997856092508097, 1, 68, 0.771845380972698, 'sigmoid'],\n",
       " ['adam', 0.05984196843658465, 1, 70, 0.7749184835834795, 'sigmoid'],\n",
       " ['adam', 0.0603843083312195, 1, 69, 0.7782732891865842, 'sigmoid'],\n",
       " ['adam', 0.0600180637804433, 1, 58, 0.7802722362757295, 'sigmoid'],\n",
       " ['adam', 0.060202052268626176, 1, 51, 0.7812684310503346, 'sigmoid'],\n",
       " ['adam', 0.05990899017356568, 1, 59, 0.7854518270258122, 'sigmoid'],\n",
       " ['adam', 0.06004409529608879, 1, 63, 0.7852028087778683, 'sigmoid'],\n",
       " ['adam', 0.007213858569099104, 1, 70, 0.8252150737176525, 'softmax'],\n",
       " ['adam', 0.05996636458473874, 1, 58, 0.7859577023239731, 'sigmoid'],\n",
       " ['adam', 0.0026643965595383543, 1, 70, 0.5, 'softmax'],\n",
       " ['adam', 0.005118140299454262, 1, 70, 0.7572720295112638, 'softmax'],\n",
       " ['adam', 0.06271579468104195, 1, 39, 0.7367034287728519, 'sigmoid'],\n",
       " ['adam', 0.0634495253495454, 1, 30, 0.7245803695937426, 'sigmoid'],\n",
       " ['adam', 0.06252481710923691, 1, 30, 0.6947880074640689, 'sigmoid'],\n",
       " ['adam', 0.06262465545034367, 1, 38, 0.6919647950010086, 'sigmoid'],\n",
       " ['adam', 0.008867960071637468, 1, 69, 0.9816776856994129, 'softmax'],\n",
       " ['adam', 0.06322758535173431, 1, 30, 0.7138662220437175, 'sigmoid'],\n",
       " ['adam', 0.06375406239509512, 1, 30, 0.7186264047527398, 'sigmoid'],\n",
       " ['adam', 0.06058790329107217, 1, 30, 0.6774221166883201, 'sigmoid'],\n",
       " ['adam', 0.061259272006519774, 1, 30, 0.6892726168259409, 'sigmoid'],\n",
       " ['adam', 0.06066982957739068, 1, 30, 0.6778500121637393, 'sigmoid'],\n",
       " ['adam', 0.06094899570907229, 1, 30, 0.6827719569613081, 'sigmoid'],\n",
       " ['adam', 0.06016656848149992, 1, 30, 0.6695375048758416, 'sigmoid'],\n",
       " ['adam', 0.05962244396201593, 1, 30, 0.6615764609616906, 'sigmoid'],\n",
       " ['adam', 0.060170458449488214, 1, 30, 0.6700160240150328, 'sigmoid'],\n",
       " ['adam', 0.06024466782358705, 1, 30, 0.6716882475793979, 'sigmoid'],\n",
       " ['adam', 0.06044426583828519, 1, 30, 0.669201835444956, 'sigmoid'],\n",
       " ['adam', 0.06111993300140979, 1, 30, 0.6824976998453438, 'sigmoid'],\n",
       " ['adam', 0.06098803360399525, 1, 30, 0.6787376520276076, 'sigmoid'],\n",
       " ['adam', 0.06092862181129236, 1, 30, 0.6774880483266894, 'sigmoid'],\n",
       " ['adam', 0.06066621473863959, 1, 32, 0.6723676939630147, 'sigmoid'],\n",
       " ['adam', 0.06039456684387632, 1, 30, 0.6645303688766031, 'sigmoid'],\n",
       " ['adam', 0.06065622855776717, 1, 32, 0.6710583762390171, 'sigmoid'],\n",
       " ['adam', 0.06042575793280207, 1, 30, 0.666406092681349, 'sigmoid'],\n",
       " ['adam', 0.06014328453158994, 1, 30, 0.661432289452772, 'sigmoid'],\n",
       " ['adam', 0.061188172962805466, 1, 30, 0.6799209433125029, 'sigmoid'],\n",
       " ['adam', 0.061231248701621624, 1, 30, 0.6796618898943035, 'sigmoid'],\n",
       " ['adam', 0.0616183033104535, 1, 30, 0.6800571261984383, 'sigmoid'],\n",
       " ['adam', 0.060952743241848115, 1, 30, 0.680393268723196, 'sigmoid'],\n",
       " ['adam', 0.06092284665425292, 1, 30, 0.6808933132382683, 'sigmoid'],\n",
       " ['adam', 0.06089972107624533, 1, 30, 0.6826531642693546, 'sigmoid'],\n",
       " ['adam', 0.06103372947316369, 1, 30, 0.6818096094872803, 'sigmoid'],\n",
       " ['adam', 0.06106655815534085, 1, 30, 0.6788456221610816, 'sigmoid'],\n",
       " ['adam', 0.061041180734026125, 1, 40, 0.6831506745230314, 'sigmoid'],\n",
       " ['adam', 0.060969729178763546, 1, 30, 0.6824269682567452, 'sigmoid'],\n",
       " ['adam', 0.06089603320518341, 1, 30, 0.6815487199833723, 'sigmoid'],\n",
       " ['adam', 0.06086887525228887, 1, 30, 0.6845960206183667, 'sigmoid'],\n",
       " ['adam', 0.06074220737621876, 1, 30, 0.6863222679360965, 'sigmoid'],\n",
       " ['adam', 0.06079781873968635, 1, 30, 0.6868384000882479, 'sigmoid'],\n",
       " ['adam', 0.06073768485511303, 1, 31, 0.6884276453079707, 'sigmoid'],\n",
       " ['adam', 0.06128764818843927, 1, 31, 0.6805532365167654, 'sigmoid'],\n",
       " ['adam', 0.060791740470286224, 1, 30, 0.6859459353878904, 'sigmoid'],\n",
       " ['adam', 0.060820814732686176, 1, 49, 0.6868069311773968, 'sigmoid'],\n",
       " ['adam', 0.060835177710465184, 1, 52, 0.6849083104529476, 'sigmoid'],\n",
       " ['adam', 0.06083247319280757, 1, 36, 0.6902209741977781, 'sigmoid'],\n",
       " ['adam', 0.060783748292539214, 1, 33, 0.6875431242917156, 'sigmoid'],\n",
       " ['adam', 0.060897322340911636, 1, 34, 0.6870437014246189, 'sigmoid'],\n",
       " ['adam', 0.060840386276881306, 1, 33, 0.6884659951245973, 'sigmoid'],\n",
       " ['adam', 0.06070932818844532, 1, 44, 0.6905062999847609, 'sigmoid'],\n",
       " ['adam', 0.060466808599247183, 1, 55, 0.6929825458311774, 'sigmoid'],\n",
       " ['adam', 0.060295904110997334, 1, 70, 0.6946768775518245, 'sigmoid'],\n",
       " ['adam', 0.059978517203797106, 1, 70, 0.6968000037262797, 'sigmoid'],\n",
       " ['adam', 0.06066439027194522, 1, 48, 0.6934269025813645, 'sigmoid'],\n",
       " ['adam', 0.060585312194777974, 1, 48, 0.6948693033455791, 'sigmoid'],\n",
       " ['adam', 0.060656831716529476, 1, 40, 0.6948080341185918, 'sigmoid'],\n",
       " ['adam', 0.061486930733291395, 1, 35, 0.675706094496061, 'sigmoid'],\n",
       " ['adam', 0.06185507900910507, 1, 48, 0.6706878170201174, 'sigmoid'],\n",
       " ['adam', 0.061981061698730175, 1, 58, 0.6691746000671497, 'sigmoid'],\n",
       " ['adam', 0.06100860308111251, 1, 30, 0.6851460825800131, 'sigmoid'],\n",
       " ['adam', 0.06088568751368928, 1, 30, 0.6799017817798763, 'sigmoid'],\n",
       " ['adam', 0.061039407026386314, 1, 30, 0.6861829971982032, 'sigmoid'],\n",
       " ['adam', 0.06111199153557701, 1, 30, 0.6811863823004456, 'sigmoid'],\n",
       " ['adam', 0.061036995285681246, 1, 30, 0.6833146449390755, 'sigmoid'],\n",
       " ['adam', 0.061076554380382585, 1, 45, 0.6840300036465427, 'sigmoid'],\n",
       " ['adam', 0.06108879653741, 1, 38, 0.6833539477215373, 'sigmoid'],\n",
       " ['adam', 0.06121064029216734, 1, 37, 0.6779493211172807, 'sigmoid'],\n",
       " ['adam', 0.06119165938519917, 1, 39, 0.6817696298829582, 'sigmoid'],\n",
       " ['adam', 0.06122111263623538, 1, 41, 0.6823578909059036, 'sigmoid'],\n",
       " ['adam', 0.0612918409473031, 1, 62, 0.6823963717638948, 'sigmoid'],\n",
       " ['adam', 0.06135464716683017, 1, 70, 0.6812078759098015, 'sigmoid'],\n",
       " ['adam', 0.061488512064193014, 1, 70, 0.680818619233517, 'sigmoid'],\n",
       " ['adam', 0.06176620905549772, 1, 70, 0.6774654176048781, 'sigmoid'],\n",
       " ['adam', 0.06206640906528109, 1, 70, 0.6746791646281773, 'sigmoid'],\n",
       " ['adam', 0.06088237515496559, 1, 70, 0.6833066120834284, 'sigmoid'],\n",
       " ['adam', 0.06093967654393955, 1, 70, 0.6834950927816217, 'sigmoid'],\n",
       " ['adam', 0.06109503440125348, 1, 30, 0.6828633111866165, 'sigmoid'],\n",
       " ['adam', 0.061106617444192664, 1, 37, 0.6833523276041434, 'sigmoid'],\n",
       " ['adam', 0.06109291009181715, 1, 30, 0.6833798018384056, 'sigmoid'],\n",
       " ['adam', 0.06109606805277863, 1, 30, 0.6832676766261289, 'sigmoid'],\n",
       " ['adam', 0.06116783677218078, 1, 31, 0.6822100910070006, 'sigmoid'],\n",
       " ['adam', 0.06105438759536723, 1, 30, 0.6858249471403715, 'sigmoid'],\n",
       " ['adam', 0.06098392372750619, 1, 31, 0.682840027542791, 'sigmoid'],\n",
       " ['adam', 0.06109605724596791, 1, 31, 0.6843928197933479, 'sigmoid'],\n",
       " ['adam', 0.06148499768344032, 1, 30, 0.6889344806146802, 'sigmoid'],\n",
       " ['adam', 0.061207795390396835, 1, 30, 0.686694202437652, 'sigmoid'],\n",
       " ['adam', 0.06113125586286231, 1, 30, 0.684684915086006, 'sigmoid'],\n",
       " ['adam', 0.060963670244901576, 1, 30, 0.6863196763419652, 'sigmoid'],\n",
       " ['adam', 0.06106682553789351, 1, 30, 0.6860090341873257, 'sigmoid'],\n",
       " ['adam', 0.06109278321714015, 1, 30, 0.6868481328115632, 'sigmoid'],\n",
       " ['adam', 0.061072093793891585, 1, 30, 0.6881200744397253, 'sigmoid'],\n",
       " ['adam', 0.06109244505548836, 1, 35, 0.6888819487230823, 'sigmoid'],\n",
       " ['adam', 0.0608943245389332, 1, 30, 0.6880331318761197, 'sigmoid'],\n",
       " ['adam', 0.061021008141461705, 1, 30, 0.6903741729678425, 'sigmoid'],\n",
       " ['adam', 0.06120869575479842, 1, 30, 0.685669153004548, 'sigmoid'],\n",
       " ['adam', 0.06110360546528934, 1, 36, 0.6866758163821962, 'sigmoid'],\n",
       " ['adam', 0.06108265095309533, 1, 33, 0.6875143181343096, 'sigmoid'],\n",
       " ['adam', 0.06108465196659792, 1, 30, 0.6880636769608492, 'sigmoid'],\n",
       " ['adam', 0.061132204871423415, 1, 35, 0.6839992480511135, 'sigmoid'],\n",
       " ['adam', 0.06112112331220791, 1, 34, 0.683216729028382, 'sigmoid'],\n",
       " ['adam', 0.06106934452397722, 1, 45, 0.6835951960295765, 'sigmoid'],\n",
       " ['adam', 0.06107108772195622, 1, 38, 0.6836666236477172, 'sigmoid'],\n",
       " ['adam', 0.06107198299208344, 1, 49, 0.6839998615404358, 'sigmoid'],\n",
       " ['adam', 0.061058055886678696, 1, 67, 0.683679811609874, 'sigmoid'],\n",
       " ['adam', 0.061044955133699653, 1, 66, 0.68377681670906, 'sigmoid'],\n",
       " ['adam', 0.06100564779701212, 1, 70, 0.683256393533398, 'sigmoid'],\n",
       " ['adam', 0.061026765027098244, 1, 70, 0.6838792349912212, 'sigmoid'],\n",
       " ['adam', 0.061004974933199355, 1, 70, 0.6839433944603089, 'sigmoid']]"
      ]
     },
     "execution_count": 17,
     "metadata": {},
     "output_type": "execute_result"
    }
   ],
   "source": [
    "res_loaded.x_iters"
   ]
  },
  {
   "cell_type": "code",
   "execution_count": 18,
   "id": "f10cf5cd",
   "metadata": {},
   "outputs": [
    {
     "data": {
      "text/plain": [
       "array([ 16.51390839,  13.79295444, 132.50572205,  13.64929581,\n",
       "       105.31932068, 100.20307159,  15.21973038,  12.93774509,\n",
       "       107.17475128,  41.84856796, 108.60398865,  12.87398243,\n",
       "        12.58595562,  16.28083611,  14.6621685 ,  12.97801018,\n",
       "        13.1871357 ,  44.78772354,   9.16043854,  52.67248154,\n",
       "        10.43389511,  10.96970749,  11.20212269,  12.16391373,\n",
       "        15.51639843,   8.68961048,  80.02857208,  12.12790012,\n",
       "        14.95077133,  10.78381252,  24.9074955 ,  20.55939865,\n",
       "        12.90383053,  43.68048859,  42.02347183,   9.9668169 ,\n",
       "         9.61929321,  11.16843987,  12.29481792,  10.07177639,\n",
       "        10.8763361 ,  11.63202667,  24.6278038 ,  10.59932899,\n",
       "        16.40497971,  11.77383041,  10.40911007,  14.1547184 ,\n",
       "         8.19606876,   9.7091856 ,   9.51298809,  31.87203789,\n",
       "         9.69484425,  12.15723705,   9.67631912,  12.81217861,\n",
       "        11.83055782,  11.77084732,  11.451581  ,  13.9274292 ,\n",
       "         9.88098907,   9.76308346,  13.0141964 ,  10.16189575,\n",
       "        12.35965538,  10.4772234 ,  17.6346302 ,  11.95868492,\n",
       "         9.74202156,  11.66865921,  14.30138683,  93.35377502,\n",
       "        17.05597305,  15.8118248 ,  35.74581909,  14.91223526,\n",
       "        10.11226559,  52.00038147,   9.52284908,  99.06790161,\n",
       "        17.62791061,  14.05216026,  14.3528223 ,  14.77454472,\n",
       "        17.27013206,  15.06275082,  14.44284248,  12.96019363,\n",
       "        15.27178764,  15.65824413,  13.41129112,  16.15159798,\n",
       "         8.70027161,  10.04642487,  13.46706772,  13.74415207,\n",
       "        13.69346523,  14.77621365,  25.96121788,  12.97224236,\n",
       "        22.12916756,  16.01312256,  13.38232613,  15.48055458,\n",
       "        12.53073502,  13.40895271,  15.09170628,  14.57014942,\n",
       "        15.03074741,  18.10750198,  12.09260941,  13.67996311,\n",
       "        11.79441929,  11.96143723,  15.35642052,  12.67004871,\n",
       "        12.33347321,  20.11829948,  13.08186245,  12.20444775,\n",
       "        17.71377373,  13.76053905,  13.56578255,  16.93188286,\n",
       "        14.2482233 ,  13.39042854,  11.22843647,  13.63719845,\n",
       "        12.97954845,  12.66557407,  14.73966789,  13.85521126,\n",
       "        18.10567284,  17.94380379,  14.17877865,  12.02614784,\n",
       "        15.30827618,  13.21142197,  15.57165146,  13.5086689 ,\n",
       "        12.82923508,  12.32888222,  13.34005356,  12.81097507,\n",
       "        15.98243427,  13.60375786,  14.65515232,  21.94825745,\n",
       "        11.82784462,  14.18293476,  17.95055199,  15.37577724,\n",
       "        14.82550812,  19.24393463,  16.03960991,  13.93413734,\n",
       "        11.93400097,  11.3632822 ,  13.32909966,  14.19378471,\n",
       "        12.97051144,  13.07020092,  13.02871323,  11.39041519,\n",
       "        12.35795403,  19.49225616,  13.89563656,  19.48469543,\n",
       "        13.04735279,  16.55723381,  16.04955864,  14.44393921,\n",
       "        13.25029469,  15.53193855,  12.18612289,  12.65647221,\n",
       "        13.23505116,  17.29378319,  14.61723995,  12.97902298,\n",
       "        13.86225224,  12.15867329,  14.29628468,  13.236866  ,\n",
       "        13.75682163,  17.5682354 ,  16.40340424,  12.88163662,\n",
       "        13.64817715,  18.61789703,  19.49784851,  15.68607998,\n",
       "        13.90697002,  12.98788834,  11.50852299,  13.60553074,\n",
       "        12.02718735,  15.0768671 ,  13.23739719,  16.29919624])"
      ]
     },
     "execution_count": 18,
     "metadata": {},
     "output_type": "execute_result"
    }
   ],
   "source": [
    "res_loaded.func_vals"
   ]
  },
  {
   "cell_type": "code",
   "execution_count": null,
   "id": "2e84e531",
   "metadata": {},
   "outputs": [],
   "source": []
  }
 ],
 "metadata": {
  "kernelspec": {
   "display_name": "Python 3 (ipykernel)",
   "language": "python",
   "name": "python3"
  },
  "language_info": {
   "codemirror_mode": {
    "name": "ipython",
    "version": 3
   },
   "file_extension": ".py",
   "mimetype": "text/x-python",
   "name": "python",
   "nbconvert_exporter": "python",
   "pygments_lexer": "ipython3",
   "version": "3.9.12"
  }
 },
 "nbformat": 4,
 "nbformat_minor": 5
}
