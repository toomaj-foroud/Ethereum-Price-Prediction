{
 "cells": [
  {
   "cell_type": "code",
   "execution_count": 16,
   "id": "7e6031ae",
   "metadata": {},
   "outputs": [],
   "source": [
    "from pytrends.request import TrendReq\n",
    "import pandas as pd\n",
    "import time"
   ]
  },
  {
   "cell_type": "code",
   "execution_count": 94,
   "id": "d67cc7e1",
   "metadata": {},
   "outputs": [
    {
     "name": "stdout",
     "output_type": "stream",
     "text": [
      "Execution time in sec.: 20.905935764312744\n"
     ]
    }
   ],
   "source": [
    "startTime = time.time()\n",
    "pytrend = TrendReq(hl='en-GB', tz=360)\n",
    "dataset = []\n",
    "keywords=[\"Ethereum + Ether + smart contract\"]\n",
    "    \n",
    "pytrend.build_payload(\n",
    "kw_list=keywords,\n",
    "timeframe='2015-08-01 2021-06-01')\n",
    "dataMonth = pytrend.interest_over_time()\n",
    "dataset=[]\n",
    "for i in range(len(dataMonth.index)-1):\n",
    "    tf= str(dataMonth.index[i])[0:11]+str(dataMonth.index[i+1])[0:10]\n",
    "    pytrend.build_payload(\n",
    "    kw_list=keywords,\n",
    "    timeframe=tf)\n",
    "    data = pytrend.interest_over_time()\n",
    "    data.drop('isPartial', axis='columns', inplace=True)\n",
    "    data['monthly']=dataMonth[keywords[0]][i]\n",
    "    data['modified daily']=data[keywords[0]] * data['monthly']/100\n",
    "    dataset.append(data.iloc[0:-1])\n",
    "result = pd.concat(dataset, axis=0)\n",
    "result.to_csv('search_trends.csv')\n",
    "\n",
    "executionTime = (time.time() - startTime)\n",
    "print('Execution time in sec.: ' + str(executionTime))"
   ]
  },
  {
   "cell_type": "code",
   "execution_count": 90,
   "id": "4fed48d4",
   "metadata": {},
   "outputs": [],
   "source": []
  }
 ],
 "metadata": {
  "kernelspec": {
   "display_name": "Python 3 (ipykernel)",
   "language": "python",
   "name": "python3"
  },
  "language_info": {
   "codemirror_mode": {
    "name": "ipython",
    "version": 3
   },
   "file_extension": ".py",
   "mimetype": "text/x-python",
   "name": "python",
   "nbconvert_exporter": "python",
   "pygments_lexer": "ipython3",
   "version": "3.9.12"
  }
 },
 "nbformat": 4,
 "nbformat_minor": 5
}
